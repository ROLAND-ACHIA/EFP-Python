{
 "cells": [
  {
   "cell_type": "markdown",
   "id": "d0552e38",
   "metadata": {},
   "source": [
    "# Day 1:Given an array of integers and an integer target, return indices of the two numbers such that they add up to target"
   ]
  },
  {
   "cell_type": "code",
   "execution_count": 2,
   "id": "ed0d3eee",
   "metadata": {},
   "outputs": [],
   "source": [
    "def two_sum(nums, target):\n",
    "    # Dictionary to store the index of each number seen so far\n",
    "    num_to_index = {}\n",
    "    \n",
    "    # Iterate over the array\n",
    "    for i, num in enumerate(nums):\n",
    "        # Calculate the complement that, if present, would add up to the target\n",
    "        complement = target - num\n",
    "        \n",
    "        # Check if the complement is already in the dictionary\n",
    "        if complement in num_to_index:\n",
    "            # If it is, return the indices of the complement and the current number\n",
    "            return [num_to_index[complement], i]\n",
    "        \n",
    "        # Store the index of the current number in the dictionary\n",
    "        num_to_index[num] = i\n",
    "    \n",
    "    # If no solution is found, return None or raise an exception\n",
    "    return None\n"
   ]
  },
  {
   "cell_type": "code",
   "execution_count": 3,
   "id": "6a38dde2",
   "metadata": {},
   "outputs": [
    {
     "name": "stdout",
     "output_type": "stream",
     "text": [
      "[0, 1]\n"
     ]
    }
   ],
   "source": [
    "nums = [2, 7, 11, 15]\n",
    "target = 9\n",
    "print(two_sum(nums, target))  # Output: [0, 1]\n"
   ]
  },
  {
   "cell_type": "markdown",
   "id": "30b72c36",
   "metadata": {},
   "source": [
    "# Day 2: Given an integer array nums, find the subarray with the largest sum, and return its sum  "
   ]
  },
  {
   "cell_type": "code",
   "execution_count": 2,
   "id": "55e8c52d",
   "metadata": {},
   "outputs": [],
   "source": [
    "def max_subarray_sum(nums):\n",
    "    # Initialize current sum and max sum with the first element of the array\n",
    "    max_sum = current_sum = nums[0]\n",
    "    \n",
    "    # Iterate through the array starting from the second element\n",
    "    for num in nums[1:]:\n",
    "        # Update the current sum by including the current number\n",
    "        # or starting fresh from the current number if it's better\n",
    "        current_sum = max(num, current_sum + num)\n",
    "        \n",
    "        # Update the max sum if the current sum is greater\n",
    "        max_sum = max(max_sum, current_sum)\n",
    "    \n",
    "    return max_sum\n"
   ]
  },
  {
   "cell_type": "code",
   "execution_count": 3,
   "id": "2f462f5a",
   "metadata": {},
   "outputs": [
    {
     "name": "stdout",
     "output_type": "stream",
     "text": [
      "10\n"
     ]
    }
   ],
   "source": [
    "nums = [1,3,2, 4]\n",
    "print(max_subarray_sum(nums))  # Output: 6\n"
   ]
  },
  {
   "cell_type": "markdown",
   "id": "1042c2df",
   "metadata": {},
   "source": [
    "# Day 3:Give an array nums with n objects colored red, white, or blue, sort them in place so that objects of the same color are adjecent, with the colors in the order red, white, and blue.\n"
   ]
  },
  {
   "cell_type": "code",
   "execution_count": 6,
   "id": "1b407728",
   "metadata": {},
   "outputs": [],
   "source": [
    "def sort_colors(nums):\n",
    "    # Initialize pointers\n",
    "    low, mid, high = 0, 0, len(nums) - 1\n",
    "\n",
    "    # Process elements until mid pointer crosses high pointer\n",
    "    while mid <= high:\n",
    "        if nums[mid] == 0:\n",
    "            # Swap nums[mid] and nums[low], move both pointers forward\n",
    "            nums[low], nums[mid] = nums[mid], nums[low]\n",
    "            low += 1\n",
    "            mid += 1\n",
    "        elif nums[mid] == 1:\n",
    "            # Move mid pointer forward if the element is 1\n",
    "            mid += 1\n",
    "        else:  # nums[mid] == 2\n",
    "            # Swap nums[mid] and nums[high], move high pointer backward\n",
    "            nums[mid], nums[high] = nums[high], nums[mid]\n",
    "            high -= 1\n"
   ]
  },
  {
   "cell_type": "code",
   "execution_count": 7,
   "id": "33d29e12",
   "metadata": {},
   "outputs": [
    {
     "name": "stdout",
     "output_type": "stream",
     "text": [
      "[0, 0, 1, 1, 2, 2]\n"
     ]
    }
   ],
   "source": [
    "nums = [2, 0, 2, 1, 1, 0]\n",
    "sort_colors(nums)\n",
    "print(nums)  # Output: [0, 0, 1, 1, 2, 2]\n"
   ]
  },
  {
   "cell_type": "code",
   "execution_count": 6,
   "id": "a3a195a1",
   "metadata": {},
   "outputs": [],
   "source": [
    "def sort_colors(colors):\n",
    "    \"\"\"\n",
    "    Arrange the elements in the order red, white, and blue.\n",
    "    Assumes the input is a list of strings where each string is one of 'red', 'white', or 'blue'.\n",
    "    \"\"\"\n",
    "    # Pointers for three partitions\n",
    "    red_index = 0\n",
    "    blue_index = len(colors) - 1\n",
    "    i = 0\n",
    "\n",
    "    while i <= blue_index:\n",
    "        if colors[i] == 'red':\n",
    "            # Swap current element with the red partition and expand the red partition\n",
    "            colors[i], colors[red_index] = colors[red_index], colors[i]\n",
    "            red_index += 1\n",
    "            i += 1\n",
    "        elif colors[i] == 'blue':\n",
    "            # Swap current element with the blue partition and shrink the blue partition\n",
    "            colors[i], colors[blue_index] = colors[blue_index], colors[i]\n",
    "            blue_index -= 1\n",
    "        else:\n",
    "            # Move to the next element if it's white\n",
    "            i += 1\n",
    "\n",
    "    return colors\n"
   ]
  },
  {
   "cell_type": "code",
   "execution_count": 11,
   "id": "41b94ac7",
   "metadata": {},
   "outputs": [
    {
     "data": {
      "text/plain": [
       "['red', 'blue', 'white', 'white', 'white', 'blue', 'blue']"
      ]
     },
     "execution_count": 11,
     "metadata": {},
     "output_type": "execute_result"
    }
   ],
   "source": [
    "['red', 'blue', 'white', 'white', 'white', 'blue', 'blue']\n"
   ]
  },
  {
   "cell_type": "code",
   "execution_count": null,
   "id": "45139785",
   "metadata": {},
   "outputs": [],
   "source": [
    "sort_colors()"
   ]
  }
 ],
 "metadata": {
  "kernelspec": {
   "display_name": "Python 3 (ipykernel)",
   "language": "python",
   "name": "python3"
  },
  "language_info": {
   "codemirror_mode": {
    "name": "ipython",
    "version": 3
   },
   "file_extension": ".py",
   "mimetype": "text/x-python",
   "name": "python",
   "nbconvert_exporter": "python",
   "pygments_lexer": "ipython3",
   "version": "3.11.2"
  }
 },
 "nbformat": 4,
 "nbformat_minor": 5
}
